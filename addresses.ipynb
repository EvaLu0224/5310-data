{
 "cells": [
  {
   "cell_type": "code",
   "execution_count": 1,
   "id": "eb6f8759",
   "metadata": {},
   "outputs": [],
   "source": [
    "import csv\n",
    "import random\n",
    "from faker import Faker\n",
    "import psycopg2"
   ]
  },
  {
   "cell_type": "code",
   "execution_count": 2,
   "id": "e8e516b8",
   "metadata": {},
   "outputs": [],
   "source": [
    "def get_connection():\n",
    "    return psycopg2.connect(\n",
    "        host=\"localhost\",\n",
    "        database=\"5310 project\",\n",
    "        user=\"postgres\",\n",
    "        password=\"123\"\n",
    "    )"
   ]
  },
  {
   "cell_type": "code",
   "execution_count": 3,
   "id": "5c45d9f9",
   "metadata": {},
   "outputs": [],
   "source": [
    "fake = Faker()\n"
   ]
  },
  {
   "cell_type": "code",
   "execution_count": 4,
   "id": "b6c95774",
   "metadata": {},
   "outputs": [],
   "source": [
    "us_cities = [\n",
    "    \"New York\", \"Los Angeles\", \"Chicago\", \"Houston\", \"Phoenix\", \"Philadelphia\",\n",
    "    \"San Antonio\", \"San Diego\", \"Dallas\", \"San Jose\", \"Austin\", \"Jacksonville\",\n",
    "    \"San Francisco\", \"Columbus\", \"Indianapolis\", \"Fort Worth\", \"Charlotte\", \"Detroit\",\n",
    "    \"El Paso\", \"Seattle\", \"Denver\", \"Washington\", \"Boston\", \"Memphis\", \"Nashville\",\n",
    "    \"Baltimore\", \"Oklahoma City\", \"Las Vegas\", \"Louisville\", \"Milwaukee\", \"Albuquerque\"\n",
    "]\n",
    "\n",
    "us_states = [\n",
    "    \"AL\", \"AK\", \"AZ\", \"AR\", \"CA\", \"CO\", \"CT\", \"DE\", \"FL\", \"GA\", \"HI\", \"ID\", \"IL\",\n",
    "    \"IN\", \"IA\", \"KS\", \"KY\", \"LA\", \"ME\", \"MD\", \"MA\", \"MI\", \"MN\", \"MS\", \"MO\", \"MT\",\n",
    "    \"NE\", \"NV\", \"NH\", \"NJ\", \"NM\", \"NY\", \"NC\", \"ND\", \"OH\", \"OK\", \"OR\", \"PA\", \"RI\",\n",
    "    \"SC\", \"SD\", \"TN\", \"TX\", \"UT\", \"VT\", \"VA\", \"WA\", \"WV\", \"WI\", \"WY\"\n",
    "]\n",
    "\n",
    "# For a more realistic approach, consider using a dataset or an API that provides accurate zip codes for the cities\n",
    "us_zip_codes = [\n",
    "    \"10001\", \"90001\", \"60601\", \"77001\", \"85001\", \"19101\", \"75201\", \"92101\",\n",
    "    \"94101\", \"30301\", \"33101\", \"48201\", \"63101\", \"75201\", \"75202\", \"98101\",\n",
    "    \"94102\", \"98102\", \"28201\", \"27401\", \"48101\", \"53101\", \"70112\", \"84101\"\n",
    "]\n",
    "\n",
    "def generate_addresses(n=2000):\n",
    "    conn = get_connection()\n",
    "    cursor = conn.cursor()\n",
    "\n",
    "    # Create a CSV file and write the header\n",
    "    with open('C:/Users/Yihua/Desktop/5310 project/addresses.csv', mode='w', newline='') as file:\n",
    "        writer = csv.writer(file)\n",
    "        writer.writerow(['address_id', 'street', 'city', 'state', 'country', 'zip_code'])\n",
    "\n",
    "        for _ in range(n):\n",
    "            street = fake.street_address()\n",
    "            city = random.choice(us_cities)\n",
    "            state = random.choice(us_states)\n",
    "            country = \"United States\"\n",
    "            zip_code = random.choice(us_zip_codes)\n",
    "            \n",
    "            # Insert into the database and get the generated address_id\n",
    "            cursor.execute(\n",
    "                \"INSERT INTO addresses (street, city, state, country, zip_code) VALUES (%s, %s, %s, %s, %s) RETURNING address_id\",\n",
    "                (street, city, state, country, zip_code)\n",
    "            )\n",
    "            \n",
    "            address_id = cursor.fetchone()[0]\n",
    "\n",
    "            # Write to CSV file with the retrieved address_id\n",
    "            writer.writerow([address_id, street, city, state, country, zip_code])\n",
    "\n",
    "    conn.commit()\n",
    "    cursor.close()\n",
    "    conn.close()\n",
    "\n",
    "\n",
    "if __name__ == \"__main__\":\n",
    "    generate_addresses()"
   ]
  },
  {
   "cell_type": "code",
   "execution_count": null,
   "id": "10da1638",
   "metadata": {},
   "outputs": [],
   "source": []
  }
 ],
 "metadata": {
  "kernelspec": {
   "display_name": "Python 3 (ipykernel)",
   "language": "python",
   "name": "python3"
  },
  "language_info": {
   "codemirror_mode": {
    "name": "ipython",
    "version": 3
   },
   "file_extension": ".py",
   "mimetype": "text/x-python",
   "name": "python",
   "nbconvert_exporter": "python",
   "pygments_lexer": "ipython3",
   "version": "3.11.5"
  }
 },
 "nbformat": 4,
 "nbformat_minor": 5
}
