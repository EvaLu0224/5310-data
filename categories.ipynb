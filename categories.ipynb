{
 "cells": [
  {
   "cell_type": "code",
   "execution_count": 1,
   "id": "106fcc3d",
   "metadata": {},
   "outputs": [],
   "source": [
    "import csv\n",
    "import psycopg2"
   ]
  },
  {
   "cell_type": "code",
   "execution_count": 2,
   "id": "be744ecf",
   "metadata": {},
   "outputs": [],
   "source": [
    "def get_connection():\n",
    "    return psycopg2.connect(\n",
    "        host=\"localhost\",\n",
    "        database=\"5310 project\",\n",
    "        user=\"postgres\",\n",
    "        password=\"123\"\n",
    "    )"
   ]
  },
  {
   "cell_type": "code",
   "execution_count": 3,
   "id": "0d3755b5",
   "metadata": {},
   "outputs": [],
   "source": [
    "categories = [\"Beverages\", \"Snacks\",\"Breakfast Foods\",\"Canned & Packaged Foods\",\"Cooking & Baking Supplies\",\"Dairy\",\"Frozen Foods\",\n",
    "              \"Meat & Seafood\",\"Produce\",\"Bakery\"]\n"
   ]
  },
  {
   "cell_type": "code",
   "execution_count": 4,
   "id": "8e0b96e1",
   "metadata": {},
   "outputs": [],
   "source": [
    "def generate_categories():\n",
    "    conn = get_connection()\n",
    "    cursor = conn.cursor()\n",
    "\n",
    "\n",
    "    with open('C:/Users/Yihua/Desktop/5310 project/categories.csv', mode='w', newline='') as file:\n",
    "        writer = csv.writer(file)\n",
    "        writer.writerow(['category_name'])\n",
    "\n",
    "        for category in categories:\n",
    "            # Insert into database\n",
    "            cursor.execute(\n",
    "                \"INSERT INTO categories (category_name) VALUES (%s)\",\n",
    "                (category,)\n",
    "            )\n",
    "            \n",
    "            # Write to CSV file\n",
    "            writer.writerow([category])\n",
    "\n",
    "    conn.commit()\n",
    "    cursor.close()\n",
    "    conn.close()\n",
    "\n",
    "if __name__ == \"__main__\":\n",
    "    generate_categories()"
   ]
  },
  {
   "cell_type": "code",
   "execution_count": null,
   "id": "c58fe8cd",
   "metadata": {},
   "outputs": [],
   "source": []
  }
 ],
 "metadata": {
  "kernelspec": {
   "display_name": "Python 3 (ipykernel)",
   "language": "python",
   "name": "python3"
  },
  "language_info": {
   "codemirror_mode": {
    "name": "ipython",
    "version": 3
   },
   "file_extension": ".py",
   "mimetype": "text/x-python",
   "name": "python",
   "nbconvert_exporter": "python",
   "pygments_lexer": "ipython3",
   "version": "3.11.5"
  }
 },
 "nbformat": 4,
 "nbformat_minor": 5
}
