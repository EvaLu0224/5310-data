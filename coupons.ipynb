{
 "cells": [
  {
   "cell_type": "code",
   "execution_count": 8,
   "id": "3508bc16",
   "metadata": {},
   "outputs": [],
   "source": [
    "import psycopg2\n",
    "import csv\n",
    "import random\n",
    "from datetime import datetime, timedelta"
   ]
  },
  {
   "cell_type": "code",
   "execution_count": 9,
   "id": "142f28af",
   "metadata": {},
   "outputs": [],
   "source": [
    "def get_connection():\n",
    "    return psycopg2.connect(\n",
    "        host=\"localhost\",\n",
    "        database=\"5310 project\",\n",
    "        user=\"postgres\",\n",
    "        password=\"123\"\n",
    "    )\n"
   ]
  },
  {
   "cell_type": "code",
   "execution_count": 10,
   "id": "3f251877",
   "metadata": {},
   "outputs": [],
   "source": [
    "def generate_coupons(n=100):\n",
    "    conn = get_connection()\n",
    "    cursor = conn.cursor()\n",
    "    try:\n",
    "        # Fetch customer_id and product_id pairs from customer_order\n",
    "        cursor.execute(\"\"\"\n",
    "            SELECT DISTINCT customer_id, product_id\n",
    "            FROM customer_order\n",
    "        \"\"\")\n",
    "        customer_product_pairs = cursor.fetchall()\n",
    "        \n",
    "        if len(customer_product_pairs) < n:\n",
    "            print(f\"Warning: Only {len(customer_product_pairs)} unique customer-product pairs available.\")\n",
    "            n = len(customer_product_pairs)\n",
    "\n",
    "        generated_pairs = set()\n",
    "        with open('C:/Users/Yihua/Desktop/5310 project/coupons.csv', mode='w', newline='') as file:\n",
    "            writer = csv.writer(file)\n",
    "            writer.writerow(['customer_id', 'coupon_amount', 'product_id'])\n",
    "            \n",
    "            for _ in range(n):\n",
    "                while True:\n",
    "                    customer_id, product_id = random.choice(customer_product_pairs)\n",
    "                    pair = (customer_id, product_id)\n",
    "                    if pair not in generated_pairs:\n",
    "                        generated_pairs.add(pair)\n",
    "                        break\n",
    "\n",
    "                coupon_amount = round(random.uniform(5, 50), 2)\n",
    "                \n",
    "\n",
    "                \n",
    "                # Write the generated coupon data to the CSV file\n",
    "                writer.writerow([customer_id, coupon_amount, product_id])\n",
    "\n",
    "        conn.commit()\n",
    "    except Exception as e:\n",
    "        print(f\"An error occurred: {e}\")\n",
    "        conn.rollback()\n",
    "    finally:\n",
    "        cursor.close()\n",
    "        conn.close()\n",
    "\n",
    "if __name__ == \"__main__\":\n",
    "    generate_coupons()"
   ]
  },
  {
   "cell_type": "code",
   "execution_count": null,
   "id": "3d67f4f5",
   "metadata": {},
   "outputs": [],
   "source": []
  }
 ],
 "metadata": {
  "kernelspec": {
   "display_name": "Python 3 (ipykernel)",
   "language": "python",
   "name": "python3"
  },
  "language_info": {
   "codemirror_mode": {
    "name": "ipython",
    "version": 3
   },
   "file_extension": ".py",
   "mimetype": "text/x-python",
   "name": "python",
   "nbconvert_exporter": "python",
   "pygments_lexer": "ipython3",
   "version": "3.11.5"
  }
 },
 "nbformat": 4,
 "nbformat_minor": 5
}
