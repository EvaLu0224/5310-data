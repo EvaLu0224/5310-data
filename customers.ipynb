{
 "cells": [
  {
   "cell_type": "code",
   "execution_count": 1,
   "id": "947254e3",
   "metadata": {},
   "outputs": [],
   "source": [
    "import psycopg2\n",
    "import csv\n",
    "from faker import Faker\n",
    "import random"
   ]
  },
  {
   "cell_type": "code",
   "execution_count": 2,
   "id": "ee99360c",
   "metadata": {},
   "outputs": [],
   "source": [
    "fake = Faker()"
   ]
  },
  {
   "cell_type": "code",
   "execution_count": 3,
   "id": "2e3d3d9a",
   "metadata": {},
   "outputs": [],
   "source": [
    "def get_connection():\n",
    "    return psycopg2.connect(\n",
    "        host=\"localhost\",\n",
    "        database=\"5310 project\",\n",
    "        user=\"postgres\",\n",
    "        password=\"123\"\n",
    "    )\n"
   ]
  },
  {
   "cell_type": "code",
   "execution_count": 4,
   "id": "c2591da9",
   "metadata": {},
   "outputs": [
    {
     "name": "stdout",
     "output_type": "stream",
     "text": [
      "Generated 2000 customers successfully.\n"
     ]
    }
   ],
   "source": [
    "def generate_customers(n=2000):\n",
    "    \"\"\"Generate and insert customer data into the customers table.\"\"\"\n",
    "    try:\n",
    "        conn = get_connection()\n",
    "        cursor = conn.cursor()\n",
    "\n",
    "        # Fetch all address_ids from the addresses table\n",
    "        cursor.execute(\"SELECT address_id FROM addresses\")\n",
    "        all_addresses = [row[0] for row in cursor.fetchall()]\n",
    "\n",
    "        # Fetch address_ids used by warehouses\n",
    "        cursor.execute(\"SELECT address_id FROM warehouses\")\n",
    "        warehouse_addresses = {row[0] for row in cursor.fetchall()}\n",
    "\n",
    "        # Determine available address_ids for customers (excluding warehouse addresses)\n",
    "        available_customer_addresses = list(set(all_addresses) - warehouse_addresses)\n",
    "\n",
    "        if len(available_customer_addresses) < 1:\n",
    "            print(f\"Error: Not enough unique addresses available for customers.\")\n",
    "            cursor.close()\n",
    "            conn.close()\n",
    "            return\n",
    "\n",
    "        # Define the list of domains\n",
    "        domains = ['gmail.com', 'qq.com', 'yahoo.com', 'hotmail.com']\n",
    "        customers = []\n",
    "        existing_emails = set()\n",
    "\n",
    "        for _ in range(n):\n",
    "            first_name = fake.first_name().title()  # Capitalize first letter\n",
    "            last_name = fake.last_name().title()    # Capitalize first letter\n",
    "            user_name = f\"{first_name} {last_name}\"\n",
    "            domain = random.choice(domains)  # Randomly select a domain\n",
    "            email = f\"{first_name.lower()}.{last_name.lower()}@{domain}\"  # Combine names and domain\n",
    "\n",
    "            # Ensure email is unique\n",
    "            while email in existing_emails:\n",
    "                first_name = fake.first_name().title()\n",
    "                last_name = fake.last_name().title()\n",
    "                user_name = f\"{first_name} {last_name}\"\n",
    "                email = f\"{first_name.lower()}.{last_name.lower()}@{domain}\"\n",
    "\n",
    "            existing_emails.add(email)  # Add email to the set of existing emails\n",
    "\n",
    "            # Allow multiple customers to have the same address_id\n",
    "            address_id = random.choice(available_customer_addresses)\n",
    "            customers.append((user_name, email, first_name, last_name, str(address_id)))  # Convert address_id to string\n",
    "\n",
    "            cursor.execute(\n",
    "                \"INSERT INTO customers (user_name, email, first_name, last_name, address_id) VALUES (%s, %s, %s, %s, %s)\",\n",
    "                (user_name, email, first_name, last_name, address_id)\n",
    "            )\n",
    "\n",
    "        conn.commit()\n",
    "\n",
    "        # Write the generated customer data to a CSV file\n",
    "        with open('C:/Users/Yihua/Desktop/5310 project/customers.csv', 'w', newline='') as csvfile:\n",
    "            csv_writer = csv.writer(csvfile)\n",
    "            csv_writer.writerow(['user_name', 'email', 'first_name', 'last_name', 'address_id'])\n",
    "            csv_writer.writerows(customers)\n",
    "\n",
    "        cursor.close()\n",
    "        conn.close()\n",
    "\n",
    "        print(f\"Generated {n} customers successfully.\")\n",
    "        \n",
    "    except Exception as e:\n",
    "        print(f\"An error occurred: {e}\")\n",
    "        \n",
    "if __name__ == \"__main__\":\n",
    "    generate_customers()"
   ]
  },
  {
   "cell_type": "code",
   "execution_count": null,
   "id": "57df6a33",
   "metadata": {},
   "outputs": [],
   "source": []
  }
 ],
 "metadata": {
  "kernelspec": {
   "display_name": "Python 3 (ipykernel)",
   "language": "python",
   "name": "python3"
  },
  "language_info": {
   "codemirror_mode": {
    "name": "ipython",
    "version": 3
   },
   "file_extension": ".py",
   "mimetype": "text/x-python",
   "name": "python",
   "nbconvert_exporter": "python",
   "pygments_lexer": "ipython3",
   "version": "3.11.5"
  }
 },
 "nbformat": 4,
 "nbformat_minor": 5
}
