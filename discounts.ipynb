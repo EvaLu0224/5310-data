{
 "cells": [
  {
   "cell_type": "code",
   "execution_count": 5,
   "id": "d308f0c3",
   "metadata": {},
   "outputs": [],
   "source": [
    "import psycopg2\n",
    "import csv\n",
    "from faker import Faker\n",
    "import random\n",
    "from datetime import datetime, timedelta\n",
    "\n",
    "fake = Faker()"
   ]
  },
  {
   "cell_type": "code",
   "execution_count": 6,
   "id": "f15cb5b1",
   "metadata": {},
   "outputs": [],
   "source": [
    "def get_connection():\n",
    "    return psycopg2.connect(\n",
    "        host=\"localhost\",\n",
    "        database=\"5310 project\",\n",
    "        user=\"postgres\",\n",
    "        password=\"123\"\n",
    "    )\n"
   ]
  },
  {
   "cell_type": "code",
   "execution_count": 7,
   "id": "6d913756",
   "metadata": {},
   "outputs": [],
   "source": [
    "def get_connection():\n",
    "    return psycopg2.connect(\n",
    "        host=\"localhost\",\n",
    "        database=\"5310 project\",\n",
    "        user=\"postgres\",\n",
    "        password=\"123\"\n",
    "    )\n",
    "\n",
    "def generate_discounts(n=100):\n",
    "    conn = get_connection()\n",
    "    cursor = conn.cursor()\n",
    "    \n",
    "    # Fetch product_ids from the products table\n",
    "    cursor.execute(\"SELECT product_id FROM products\")\n",
    "    products = cursor.fetchall()\n",
    "    \n",
    "    # List of possible discount percentages\n",
    "    discount_percentages = [10, 15, 20, 25, 30]\n",
    "    \n",
    "    discounts = []\n",
    "\n",
    "    for _ in range(n):\n",
    "        product_id = random.choice(products)[0]\n",
    "        discount_percentage = random.choice(discount_percentages)\n",
    "        \n",
    "        # Generate a random start time within the last 30 days\n",
    "        start_time = datetime.now() - timedelta(days=random.randint(0, 30))\n",
    "        \n",
    "        # Generate an end time, which is randomly chosen to be within 1 to 30 days after the start time\n",
    "        end_time = start_time + timedelta(days=random.randint(1, 30))\n",
    "        \n",
    "        # Append to discounts list\n",
    "        discounts.append((product_id, discount_percentage, start_time, end_time))\n",
    "        \n",
    "        # Insert into database\n",
    "        cursor.execute(\n",
    "            \"INSERT INTO discounts (product_id, discount_percentage, starting_time, ending_time) VALUES (%s, %s, %s, %s)\",\n",
    "            (product_id, discount_percentage, start_time, end_time)\n",
    "        )\n",
    "\n",
    "    conn.commit()\n",
    "    cursor.close()\n",
    "    conn.close()\n",
    "\n",
    "    # Write the generated discount data to a CSV file\n",
    "    with open('C:/Users/Yihua/Desktop/5310 project/discounts.csv', 'w', newline='') as csvfile:\n",
    "        csv_writer = csv.writer(csvfile)\n",
    "        csv_writer.writerow(['product_id', 'discount_percentage', 'starting_time', 'ending_time'])\n",
    "        for discount in discounts:\n",
    "            csv_writer.writerow([\n",
    "                discount[0],  # product_id\n",
    "                discount[1],  # discount_percentage\n",
    "                discount[2].strftime('%Y-%m-%d'),  # starting_time\n",
    "                discount[3].strftime('%Y-%m-%d')   # ending_time\n",
    "            ])\n",
    "\n",
    "if __name__ == \"__main__\":\n",
    "    generate_discounts()"
   ]
  },
  {
   "cell_type": "code",
   "execution_count": null,
   "id": "ef7e4cae",
   "metadata": {},
   "outputs": [],
   "source": []
  }
 ],
 "metadata": {
  "kernelspec": {
   "display_name": "Python 3 (ipykernel)",
   "language": "python",
   "name": "python3"
  },
  "language_info": {
   "codemirror_mode": {
    "name": "ipython",
    "version": 3
   },
   "file_extension": ".py",
   "mimetype": "text/x-python",
   "name": "python",
   "nbconvert_exporter": "python",
   "pygments_lexer": "ipython3",
   "version": "3.11.5"
  }
 },
 "nbformat": 4,
 "nbformat_minor": 5
}
