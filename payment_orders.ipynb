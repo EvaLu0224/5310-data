{
 "cells": [
  {
   "cell_type": "code",
   "execution_count": 1,
   "id": "a474c086",
   "metadata": {},
   "outputs": [],
   "source": [
    "import psycopg2\n",
    "import random\n",
    "import csv"
   ]
  },
  {
   "cell_type": "code",
   "execution_count": 2,
   "id": "4796bfbc",
   "metadata": {},
   "outputs": [],
   "source": [
    "def get_connection():\n",
    "    return psycopg2.connect(\n",
    "        host=\"localhost\",\n",
    "        database=\"5310 project\",\n",
    "        user=\"postgres\",\n",
    "        password=\"123\"\n",
    "    )"
   ]
  },
  {
   "cell_type": "code",
   "execution_count": 5,
   "id": "a0a12dc5",
   "metadata": {},
   "outputs": [
    {
     "name": "stdout",
     "output_type": "stream",
     "text": [
      "Found 2000 payment_ids and 5000 order_ids.\n",
      "Generated 5000 payment orders.\n"
     ]
    }
   ],
   "source": [
    "def generate_payment_orders(n=5000):\n",
    "    conn = get_connection()\n",
    "    cursor = conn.cursor()\n",
    "\n",
    "    # Fetch payment_ids and order_ids\n",
    "    cursor.execute(\"SELECT payment_id FROM payments\")\n",
    "    payment_ids = [row[0] for row in cursor.fetchall()]\n",
    "    cursor.execute(\"SELECT order_id FROM customer_order\")\n",
    "    order_ids = [row[0] for row in cursor.fetchall()]\n",
    "\n",
    "    if not payment_ids or not order_ids:\n",
    "        print(\"Error: No payment_ids or order_ids found in the database.\")\n",
    "        cursor.close()\n",
    "        conn.close()\n",
    "        return\n",
    "\n",
    "    print(f\"Found {len(payment_ids)} payment_ids and {len(order_ids)} order_ids.\")\n",
    "\n",
    "    # Track used (payment_id, order_id) pairs\n",
    "    used_pairs = set()\n",
    "    \n",
    "    # Generate unique random pairs of (payment_id, order_id)\n",
    "    payment_orders = []\n",
    "    while len(payment_orders) < n:\n",
    "        payment_id = random.choice(payment_ids)\n",
    "        order_id = random.choice(order_ids)\n",
    "        pair = (payment_id, order_id)\n",
    "        \n",
    "        if pair not in used_pairs:\n",
    "            payment_orders.append(pair)\n",
    "            used_pairs.add(pair)\n",
    "            \n",
    "            # Insert into database\n",
    "            try:\n",
    "                cursor.execute(\n",
    "                    \"INSERT INTO payment_orders (payment_id, order_id) VALUES (%s, %s)\",\n",
    "                    (payment_id, order_id)\n",
    "                )\n",
    "                conn.commit()\n",
    "            except psycopg2.IntegrityError as e:\n",
    "                print(f\"IntegrityError: {e}\")\n",
    "                conn.rollback()\n",
    "            except Exception as e:\n",
    "                print(f\"Error: {e}\")\n",
    "                conn.rollback()\n",
    "\n",
    "    cursor.close()\n",
    "    conn.close()\n",
    "\n",
    "\n",
    "    # Write the generated payment_order data to a CSV file\n",
    "    with open('C:/Users/Yihua/Desktop/5310 project/payment_orders.csv', 'w', newline='') as csvfile:\n",
    "        csv_writer = csv.writer(csvfile)\n",
    "        csv_writer.writerow(['payment_id', 'order_id'])\n",
    "        csv_writer.writerows(payment_orders)\n",
    "\n",
    "    print(f\"Generated {len(payment_orders)} payment orders.\")\n",
    "\n",
    "if __name__ == \"__main__\":\n",
    "    generate_payment_orders()"
   ]
  },
  {
   "cell_type": "code",
   "execution_count": null,
   "id": "535c943d",
   "metadata": {},
   "outputs": [],
   "source": []
  }
 ],
 "metadata": {
  "kernelspec": {
   "display_name": "Python 3 (ipykernel)",
   "language": "python",
   "name": "python3"
  },
  "language_info": {
   "codemirror_mode": {
    "name": "ipython",
    "version": 3
   },
   "file_extension": ".py",
   "mimetype": "text/x-python",
   "name": "python",
   "nbconvert_exporter": "python",
   "pygments_lexer": "ipython3",
   "version": "3.11.5"
  }
 },
 "nbformat": 4,
 "nbformat_minor": 5
}
