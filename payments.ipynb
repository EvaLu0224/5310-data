{
 "cells": [
  {
   "cell_type": "code",
   "execution_count": 1,
   "id": "51004f33",
   "metadata": {},
   "outputs": [],
   "source": [
    "import psycopg2\n",
    "import csv\n",
    "from faker import Faker\n",
    "import random"
   ]
  },
  {
   "cell_type": "code",
   "execution_count": 2,
   "id": "c3379486",
   "metadata": {},
   "outputs": [],
   "source": [
    "fake = Faker()"
   ]
  },
  {
   "cell_type": "code",
   "execution_count": 3,
   "id": "de7a21cc",
   "metadata": {},
   "outputs": [],
   "source": [
    "def get_connection():\n",
    "    return psycopg2.connect(\n",
    "        host=\"localhost\",\n",
    "        database=\"5310 project\",\n",
    "        user=\"postgres\",\n",
    "        password=\"123\"\n",
    "    )\n"
   ]
  },
  {
   "cell_type": "code",
   "execution_count": 4,
   "id": "e066320f",
   "metadata": {},
   "outputs": [],
   "source": [
    "def generate_payments(n=2000):\n",
    "    conn = get_connection()\n",
    "    cursor = conn.cursor()\n",
    "    payment_methods = [\"Credit Card\", \"PayPal\", \"Bank Transfer\", \"Cash on Delivery\"]\n",
    "\n",
    "    payments = []\n",
    "    for _ in range(n):\n",
    "        payment_method = random.choice(payment_methods)\n",
    "        cursor.execute(\n",
    "            \"INSERT INTO payments (payment_method) VALUES (%s) RETURNING payment_id\",\n",
    "            (payment_method,)\n",
    "        )\n",
    "        payment_id = cursor.fetchone()[0]\n",
    "        payments.append((payment_id, payment_method))\n",
    "        conn.commit()\n",
    "\n",
    "    cursor.close()\n",
    "    conn.close()\n",
    "\n",
    "    # Write the generated payment data to a CSV file\n",
    "    with open('C:/Users/Yihua/Desktop/5310 project/payments.csv', 'w', newline='') as csvfile:\n",
    "        csv_writer = csv.writer(csvfile)\n",
    "        csv_writer.writerow(['payment_id', 'payment_method'])\n",
    "        csv_writer.writerows(payments)\n",
    "\n",
    "if __name__ == \"__main__\":\n",
    "    generate_payments()"
   ]
  },
  {
   "cell_type": "code",
   "execution_count": null,
   "id": "cb0901a2",
   "metadata": {},
   "outputs": [],
   "source": []
  }
 ],
 "metadata": {
  "kernelspec": {
   "display_name": "Python 3 (ipykernel)",
   "language": "python",
   "name": "python3"
  },
  "language_info": {
   "codemirror_mode": {
    "name": "ipython",
    "version": 3
   },
   "file_extension": ".py",
   "mimetype": "text/x-python",
   "name": "python",
   "nbconvert_exporter": "python",
   "pygments_lexer": "ipython3",
   "version": "3.11.5"
  }
 },
 "nbformat": 4,
 "nbformat_minor": 5
}
