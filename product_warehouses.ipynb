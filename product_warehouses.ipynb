{
 "cells": [
  {
   "cell_type": "code",
   "execution_count": 1,
   "id": "6cd7c691",
   "metadata": {},
   "outputs": [],
   "source": [
    "import psycopg2\n",
    "import random\n",
    "import csv\n",
    "from faker import Faker"
   ]
  },
  {
   "cell_type": "code",
   "execution_count": 2,
   "id": "ecfce0b6",
   "metadata": {},
   "outputs": [],
   "source": [
    "fake = Faker()"
   ]
  },
  {
   "cell_type": "code",
   "execution_count": 3,
   "id": "2bf52ded",
   "metadata": {},
   "outputs": [],
   "source": [
    "def get_connection():\n",
    "    \"\"\"Establish and return a database connection.\"\"\"\n",
    "    return psycopg2.connect(\n",
    "        host=\"localhost\",\n",
    "        database=\"5310 project\",\n",
    "        user=\"postgres\",\n",
    "        password=\"123\"\n",
    "    )"
   ]
  },
  {
   "cell_type": "code",
   "execution_count": 4,
   "id": "61137d88",
   "metadata": {},
   "outputs": [],
   "source": [
    "def generate_product_warehouse(n=1000):\n",
    "    \"\"\"Generate and insert data into the product_warehouse table and save it to a CSV file.\"\"\"\n",
    "    try:\n",
    "        conn = get_connection()\n",
    "        cursor = conn.cursor()\n",
    "        \n",
    "        # Fetch product_ids and warehouse_ids from the respective tables\n",
    "        cursor.execute(\"SELECT product_id FROM products\")\n",
    "        products = [row[0] for row in cursor.fetchall()]\n",
    "        cursor.execute(\"SELECT warehouse_id FROM warehouses\")\n",
    "        warehouses = [row[0] for row in cursor.fetchall()]\n",
    "\n",
    "        if not products or not warehouses:\n",
    "            print(\"Error: No products or warehouses found in the database.\")\n",
    "            cursor.close()\n",
    "            conn.close()\n",
    "            return\n",
    "\n",
    "        # Ensure that each product is assigned to exactly one warehouse\n",
    "        product_warehouse_data = []\n",
    "        used_products = set()\n",
    "        used_warehouses = set()\n",
    "        \n",
    "        while len(product_warehouse_data) < n and len(used_products) < len(products):\n",
    "            product_id = random.choice(products)\n",
    "            if product_id in used_products:\n",
    "                continue  # Skip if product already assigned to a warehouse\n",
    "            \n",
    "            warehouse_id = random.choice(warehouses)\n",
    "            \n",
    "            # Ensure warehouse is not empty (to avoid the scenario where the warehouse might end up with no products)\n",
    "            if not used_warehouses or len(used_warehouses) == len(warehouses):\n",
    "                warehouse_id = random.choice(warehouses)\n",
    "            \n",
    "            \n",
    "            # Append data to the list\n",
    "            product_warehouse_data.append((product_id, warehouse_id))\n",
    "            used_products.add(product_id)\n",
    "            used_warehouses.add(warehouse_id)\n",
    "            \n",
    "            # Insert data into the database\n",
    "            cursor.execute(\n",
    "                \"INSERT INTO product_warehouse (product_id, warehouse_id) VALUES (%s, %s)\",\n",
    "                (product_id, warehouse_id)\n",
    "            )\n",
    "\n",
    "        conn.commit()\n",
    "        cursor.close()\n",
    "        conn.close()\n",
    "\n",
    "        # Write the generated product_warehouse data to a CSV file\n",
    "        with open('C:/Users/Yihua/Desktop/5310 project/product_warehouse.csv', 'w', newline='') as csvfile:\n",
    "            csv_writer = csv.writer(csvfile)\n",
    "            csv_writer.writerow(['product_id', 'warehouse_id'])\n",
    "            for data in product_warehouse_data:\n",
    "                csv_writer.writerow(data)\n",
    "\n",
    "    except Exception as e:\n",
    "        print(f\"An error occurred: {e}\")\n",
    "    finally:\n",
    "        if conn:\n",
    "            cursor.close()\n",
    "            conn.close()\n",
    "\n",
    "if __name__ == \"__main__\":\n",
    "    generate_product_warehouse()"
   ]
  },
  {
   "cell_type": "code",
   "execution_count": null,
   "id": "f43dec56",
   "metadata": {},
   "outputs": [],
   "source": []
  }
 ],
 "metadata": {
  "kernelspec": {
   "display_name": "Python 3 (ipykernel)",
   "language": "python",
   "name": "python3"
  },
  "language_info": {
   "codemirror_mode": {
    "name": "ipython",
    "version": 3
   },
   "file_extension": ".py",
   "mimetype": "text/x-python",
   "name": "python",
   "nbconvert_exporter": "python",
   "pygments_lexer": "ipython3",
   "version": "3.11.5"
  }
 },
 "nbformat": 4,
 "nbformat_minor": 5
}
