{
 "cells": [
  {
   "cell_type": "code",
   "execution_count": 1,
   "id": "348abccf",
   "metadata": {},
   "outputs": [],
   "source": [
    "import psycopg2\n",
    "from faker import Faker\n",
    "import random\n",
    "import csv\n",
    "\n",
    "\n",
    "fake = Faker()"
   ]
  },
  {
   "cell_type": "code",
   "execution_count": 2,
   "id": "b7a70b76",
   "metadata": {},
   "outputs": [],
   "source": [
    "def get_connection():\n",
    "    return psycopg2.connect(\n",
    "        host=\"localhost\",\n",
    "        database=\"5310 project\",\n",
    "        user=\"postgres\",\n",
    "        password=\"123\"\n",
    "    )\n"
   ]
  },
  {
   "cell_type": "code",
   "execution_count": 3,
   "id": "cb66b0d0",
   "metadata": {},
   "outputs": [
    {
     "name": "stdout",
     "output_type": "stream",
     "text": [
      "Generated 5000 rows of satisfaction data.\n"
     ]
    }
   ],
   "source": [
    "positive_feedback = [\n",
    "    \"The package arrived well before the estimated delivery date. Excellent service!\",\n",
    "    \"I was impressed with the secure packaging and prompt delivery. Everything arrived in perfect condition.\",\n",
    "    \"Great experience! The courier was friendly, and the tracking updates were accurate.\",\n",
    "    \"Fast and efficient delivery. The package was handled with care.\",\n",
    "    \"The delivery process was seamless, and the package arrived without any issues.\"\n",
    "]\n",
    "\n",
    "neutral_feedback = [\n",
    "    \"The delivery was on time, but the packaging could have been better protected.\",\n",
    "    \"The delivery was okay, but I wish there were more updates on the tracking information.\",\n",
    "    \"The package arrived slightly late, but the product was in good condition.\",\n",
    "    \"It was an average experience; nothing stood out, but no issues either.\",\n",
    "    \"The delivery was neither too fast nor too slow; overall, a satisfactory experience.\"\n",
    "]\n",
    "\n",
    "negative_feedback = [\n",
    "    \"The package arrived late and was slightly damaged. Not happy with the service.\",\n",
    "    \"The courier was rude and left the package at the wrong address.\",\n",
    "    \"The delivery was delayed without any explanation or updates.\",\n",
    "    \"The package arrived damaged due to poor packaging. Very disappointed.\",\n",
    "    \"The tracking information was inaccurate, and the package arrived much later than expected.\"\n",
    "]\n",
    "\n",
    "\n",
    "def generate_feedback(rating):\n",
    "    if rating >= 4:\n",
    "        return random.choice(positive_feedback)\n",
    "    elif rating == 3:\n",
    "        return random.choice(neutral_feedback)\n",
    "    else:\n",
    "        return random.choice(negative_feedback)\n",
    "\n",
    "def generate_shipping_satisfaction(n=5000):\n",
    "    conn = get_connection()\n",
    "    cursor = conn.cursor()\n",
    "\n",
    "    # Fetch all unique shipping_ids from the shippings table\n",
    "    cursor.execute(\"SELECT DISTINCT shipping_id FROM shippings\")\n",
    "    shipping_ids = [shipping[0] for shipping in cursor.fetchall()]  # Flatten the list of tuples\n",
    "\n",
    "    # Ensure that we do not exceed the number of unique shipping_ids\n",
    "    if len(shipping_ids) < n:\n",
    "        print(f\"Error: Not enough unique shipping_ids. Need at least {n} unique shipping_ids.\")\n",
    "        cursor.close()\n",
    "        conn.close()\n",
    "        return\n",
    "\n",
    "    # Shuffle the list of shipping_ids to ensure randomness\n",
    "    random.shuffle(shipping_ids)\n",
    "\n",
    "    satisfaction_data = []\n",
    "\n",
    "    for i in range(n):\n",
    "        shipping_id = shipping_ids[i]\n",
    "        rating = random.randint(1, 5)  # Rating between 1 and 5\n",
    "        feedback = generate_feedback(rating)\n",
    "        satisfaction_data.append((shipping_id, rating, feedback))\n",
    "\n",
    "\n",
    "    cursor.execute(\n",
    "      \"INSERT INTO shipping_satisfaction (shipping_id, rating, feedback) VALUES (%s, %s, %s)\",\n",
    "       (shipping_id, rating, feedback)\n",
    "        )\n",
    "\n",
    "    conn.commit()\n",
    "    cursor.close()\n",
    "    conn.close()\n",
    "\n",
    "    # Write the generated ratings data to a CSV file\n",
    "    with open('C:/Users/Yihua/Desktop/5310 project/shipping_satisfaction.csv', 'w', newline='') as csvfile:\n",
    "        csv_writer = csv.writer(csvfile)\n",
    "        csv_writer.writerow(['shipping_id', 'rating', 'feedback'])\n",
    "        csv_writer.writerows(satisfaction_data)\n",
    "\n",
    "    print(f\"Generated {len(satisfaction_data)} rows of satisfaction data.\")\n",
    "if __name__ == \"__main__\":\n",
    "    generate_shipping_satisfaction()"
   ]
  },
  {
   "cell_type": "code",
   "execution_count": null,
   "id": "d14fb6d5",
   "metadata": {},
   "outputs": [],
   "source": []
  }
 ],
 "metadata": {
  "kernelspec": {
   "display_name": "Python 3 (ipykernel)",
   "language": "python",
   "name": "python3"
  },
  "language_info": {
   "codemirror_mode": {
    "name": "ipython",
    "version": 3
   },
   "file_extension": ".py",
   "mimetype": "text/x-python",
   "name": "python",
   "nbconvert_exporter": "python",
   "pygments_lexer": "ipython3",
   "version": "3.11.5"
  }
 },
 "nbformat": 4,
 "nbformat_minor": 5
}
