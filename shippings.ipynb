{
 "cells": [
  {
   "cell_type": "code",
   "execution_count": 1,
   "id": "c413c8f6",
   "metadata": {},
   "outputs": [],
   "source": [
    "import psycopg2\n",
    "from faker import Faker\n",
    "import random\n",
    "import csv\n",
    "\n",
    "\n",
    "fake = Faker()"
   ]
  },
  {
   "cell_type": "code",
   "execution_count": 2,
   "id": "f30222a4",
   "metadata": {},
   "outputs": [],
   "source": [
    "def get_connection():\n",
    "    return psycopg2.connect(\n",
    "        host=\"localhost\",\n",
    "        database=\"5310 project\",\n",
    "        user=\"postgres\",\n",
    "        password=\"123\"\n",
    "    )\n"
   ]
  },
  {
   "cell_type": "code",
   "execution_count": 3,
   "id": "570294f9",
   "metadata": {},
   "outputs": [],
   "source": [
    "def generate_shippings(n=5000):\n",
    "    conn = get_connection()\n",
    "    cursor = conn.cursor()\n",
    "    \n",
    "    # Fetch all unique order_ids from the customer_order table\n",
    "    cursor.execute(\"SELECT DISTINCT order_id FROM customer_order\")\n",
    "    orders = [order[0] for order in cursor.fetchall()]  # Flatten the list of tuples\n",
    "\n",
    "    # Check if there are enough orders\n",
    "    if len(orders) < n:\n",
    "        print(f\"Error: Not enough unique order_ids. Need at least {n} unique order_ids.\")\n",
    "        cursor.close()\n",
    "        conn.close()\n",
    "        return\n",
    "\n",
    "    # Shuffle the list of orders to ensure randomness\n",
    "    random.shuffle(orders)\n",
    "\n",
    "    shipping_companies = [\"DHL\", \"FedEx\", \"UPS\", \"USPS\", \"DoorDash\", \"ShipBob\", \"Postmates\", \"Instacart\"]\n",
    "\n",
    "    shippings = []\n",
    "\n",
    "    for i in range(n):\n",
    "        order_id = orders[i]\n",
    "        shipping_company = random.choice(shipping_companies)\n",
    "        delivery_time = random.randint(1, 14)  # Delivery time in days\n",
    "        \n",
    "        # Save the shipping info to a list\n",
    "        shippings.append((order_id, shipping_company, delivery_time))\n",
    "\n",
    "        # Insert the shipping info into the database\n",
    "        cursor.execute(\n",
    "            \"INSERT INTO shippings (order_id, shipping_company, delivery_time) VALUES (%s, %s, %s)\",\n",
    "            (order_id, shipping_company, delivery_time)\n",
    "        )\n",
    "\n",
    "    conn.commit()\n",
    "    cursor.close()\n",
    "    conn.close()\n",
    "    \n",
    "    # Write the generated ratings data to a CSV file\n",
    "    with open('C:/Users/Yihua/Desktop/5310 project/shippings.csv', 'w', newline='') as csvfile:\n",
    "        csv_writer = csv.writer(csvfile)\n",
    "        csv_writer.writerow(['order_id', 'shipping_company', 'delivery_time'])\n",
    "        csv_writer.writerows(shippings)\n",
    "\n",
    "if __name__ == \"__main__\":\n",
    "    generate_shippings()"
   ]
  },
  {
   "cell_type": "code",
   "execution_count": null,
   "id": "0e4ecae8",
   "metadata": {},
   "outputs": [],
   "source": []
  }
 ],
 "metadata": {
  "kernelspec": {
   "display_name": "Python 3 (ipykernel)",
   "language": "python",
   "name": "python3"
  },
  "language_info": {
   "codemirror_mode": {
    "name": "ipython",
    "version": 3
   },
   "file_extension": ".py",
   "mimetype": "text/x-python",
   "name": "python",
   "nbconvert_exporter": "python",
   "pygments_lexer": "ipython3",
   "version": "3.11.5"
  }
 },
 "nbformat": 4,
 "nbformat_minor": 5
}
