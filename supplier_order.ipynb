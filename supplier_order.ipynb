{
 "cells": [
  {
   "cell_type": "code",
   "execution_count": 1,
   "id": "510fa6b0",
   "metadata": {},
   "outputs": [],
   "source": [
    "import psycopg2\n",
    "import csv\n",
    "from faker import Faker\n",
    "import random\n",
    "from datetime import datetime, timedelta\n",
    "\n",
    "fake = Faker()"
   ]
  },
  {
   "cell_type": "code",
   "execution_count": 2,
   "id": "0c20dfa9",
   "metadata": {},
   "outputs": [],
   "source": [
    "def get_connection():\n",
    "    return psycopg2.connect(\n",
    "        host=\"localhost\",\n",
    "        database=\"5310 project\",\n",
    "        user=\"postgres\",\n",
    "        password=\"123\"\n",
    "    )\n"
   ]
  },
  {
   "cell_type": "code",
   "execution_count": 3,
   "id": "78856de0",
   "metadata": {},
   "outputs": [
    {
     "name": "stdout",
     "output_type": "stream",
     "text": [
      "Generated 1000 rows of supplier orders data.\n"
     ]
    }
   ],
   "source": [
    "def generate_supplier_orders(n=1000):\n",
    "    conn = get_connection()\n",
    "    cursor = conn.cursor()\n",
    "    \n",
    "    cursor.execute(\"SELECT supplier_id FROM suppliers\")\n",
    "    suppliers = [supplier[0] for supplier in cursor.fetchall()]\n",
    "    \n",
    "    cursor.execute(\"SELECT product_id, buyin_price FROM products\")\n",
    "    products = cursor.fetchall()\n",
    "    \n",
    "    if len(products) < n:\n",
    "        print(f\"Error: Not enough unique products. Need at least {n} unique products.\")\n",
    "        cursor.close()\n",
    "        conn.close()\n",
    "        return\n",
    "    \n",
    "    random.shuffle(products)\n",
    "\n",
    "    orders_data = []\n",
    "\n",
    "    for i in range(n):\n",
    "        supplier_id = random.choice(suppliers)\n",
    "        product_id, price_per_unit = products[i]\n",
    "        quantity = random.randint(50, 200)\n",
    "        total_price = price_per_unit * quantity\n",
    "        order_date = datetime.now() - timedelta(days=random.randint(0, 365))\n",
    "        orders_data.append((supplier_id, product_id, quantity, total_price, order_date.strftime('%Y-%m-%d')))\n",
    "        \n",
    "        cursor.execute(\n",
    "            \"INSERT INTO supplier_order (supplier_id, product_id, quantity, price, date) VALUES (%s, %s, %s, %s, %s)\",\n",
    "            (supplier_id, product_id, quantity, total_price, order_date)\n",
    "        )\n",
    "\n",
    "    conn.commit()\n",
    "    cursor.close()\n",
    "    conn.close()\n",
    "    # Write the generated ratings data to a CSV file\n",
    "    with open('C:/Users/Yihua/Desktop/5310 project/supplier_orders.csv', 'w', newline='') as csvfile:\n",
    "        csv_writer = csv.writer(csvfile)\n",
    "        csv_writer.writerow(['supplier_id', 'product_id', 'quantity', 'price', 'date'])\n",
    "        csv_writer.writerows(orders_data)\n",
    "\n",
    "    print(f\"Generated {len(orders_data)} rows of supplier orders data.\")\n",
    "\n",
    "if __name__ == \"__main__\":\n",
    "    generate_supplier_orders()"
   ]
  },
  {
   "cell_type": "code",
   "execution_count": null,
   "id": "6617b1b5",
   "metadata": {},
   "outputs": [],
   "source": []
  }
 ],
 "metadata": {
  "kernelspec": {
   "display_name": "Python 3 (ipykernel)",
   "language": "python",
   "name": "python3"
  },
  "language_info": {
   "codemirror_mode": {
    "name": "ipython",
    "version": 3
   },
   "file_extension": ".py",
   "mimetype": "text/x-python",
   "name": "python",
   "nbconvert_exporter": "python",
   "pygments_lexer": "ipython3",
   "version": "3.11.5"
  }
 },
 "nbformat": 4,
 "nbformat_minor": 5
}
