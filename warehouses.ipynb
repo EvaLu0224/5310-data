{
 "cells": [
  {
   "cell_type": "code",
   "execution_count": 1,
   "id": "70ee4786",
   "metadata": {},
   "outputs": [],
   "source": [
    "import psycopg2\n",
    "import random\n",
    "import csv"
   ]
  },
  {
   "cell_type": "code",
   "execution_count": 2,
   "id": "c836fd0e",
   "metadata": {},
   "outputs": [],
   "source": [
    "def get_connection():\n",
    "    return psycopg2.connect(\n",
    "        host=\"localhost\",\n",
    "        database=\"5310 project\",\n",
    "        user=\"postgres\",\n",
    "        password=\"123\"\n",
    "    )\n"
   ]
  },
  {
   "cell_type": "code",
   "execution_count": 3,
   "id": "776cc8c5",
   "metadata": {},
   "outputs": [],
   "source": [
    "def generate_warehouses(n=5):\n",
    "    conn = get_connection()\n",
    "    cursor = conn.cursor()\n",
    "    cursor.execute(\"SELECT address_id FROM addresses\")\n",
    "    addresses = cursor.fetchall()\n",
    "    \n",
    "    warehouses_data = []\n",
    "\n",
    "    for _ in range(n):\n",
    "        address_id = random.choice(addresses)[0]\n",
    "        sqft = random.randint(1000, 50000)\n",
    "        warehouses_data.append((address_id, sqft))\n",
    "        \n",
    "        cursor.execute(\n",
    "            \"INSERT INTO warehouses (address_id, sqft) VALUES (%s, %s)\",\n",
    "            (address_id, sqft)\n",
    "        )\n",
    "    \n",
    "    conn.commit()\n",
    "    cursor.close()\n",
    "    conn.close()\n",
    "    \n",
    "    with open('C:/Users/Yihua/Desktop/5310 project/warehouses.csv', 'w', newline='') as csvfile:\n",
    "        csv_writer = csv.writer(csvfile)\n",
    "        csv_writer.writerow(['address_id', 'sqft'])\n",
    "        csv_writer.writerows(warehouses_data)\n",
    "\n",
    "\n",
    "if __name__ == \"__main__\":\n",
    "    generate_warehouses()\n"
   ]
  },
  {
   "cell_type": "code",
   "execution_count": null,
   "id": "f5feedf4",
   "metadata": {},
   "outputs": [],
   "source": []
  },
  {
   "cell_type": "code",
   "execution_count": null,
   "id": "489b3303",
   "metadata": {},
   "outputs": [],
   "source": []
  }
 ],
 "metadata": {
  "kernelspec": {
   "display_name": "Python 3 (ipykernel)",
   "language": "python",
   "name": "python3"
  },
  "language_info": {
   "codemirror_mode": {
    "name": "ipython",
    "version": 3
   },
   "file_extension": ".py",
   "mimetype": "text/x-python",
   "name": "python",
   "nbconvert_exporter": "python",
   "pygments_lexer": "ipython3",
   "version": "3.11.5"
  }
 },
 "nbformat": 4,
 "nbformat_minor": 5
}
